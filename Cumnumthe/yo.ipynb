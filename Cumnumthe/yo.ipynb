{
 "cells": [
  {
   "cell_type": "markdown",
   "metadata": {},
   "source": [
    "Tutorial 2 (Euclidean Algorithm)"
   ]
  },
  {
   "cell_type": "markdown",
   "metadata": {},
   "source": [
    "1 basic euclidean algorithm for integers"
   ]
  },
  {
   "cell_type": "code",
   "execution_count": 9,
   "metadata": {},
   "outputs": [
    {
     "data": {
      "text/plain": [
       "5"
      ]
     },
     "execution_count": 9,
     "metadata": {},
     "output_type": "execute_result"
    }
   ],
   "source": [
    "def gcd(a,b):\n",
    "    if b == 0:\n",
    "        return a\n",
    "    return gcd(b,a%b)\n",
    "\n",
    "gcd(155,5)    "
   ]
  },
  {
   "cell_type": "markdown",
   "metadata": {},
   "source": [
    "2 implement the extended euclidean algorithm"
   ]
  },
  {
   "cell_type": "code",
   "execution_count": 10,
   "metadata": {},
   "outputs": [
    {
     "data": {
      "text/plain": [
       "(1, -1, 3)"
      ]
     },
     "execution_count": 10,
     "metadata": {},
     "output_type": "execute_result"
    }
   ],
   "source": [
    "def extendedgcd(a,b):\n",
    "    if b == 0:\n",
    "        return a,1,0\n",
    "    d,x1,y1 = extendedgcd(b,a%b)\n",
    "    x = y1\n",
    "    y = x1 - (a//b)*y1\n",
    "    return d,x,y\n",
    "\n",
    "extendedgcd(155,52)"
   ]
  },
  {
   "cell_type": "markdown",
   "metadata": {},
   "source": [
    "3 Binary GCD algorithm"
   ]
  },
  {
   "cell_type": "code",
   "execution_count": 11,
   "metadata": {},
   "outputs": [
    {
     "data": {
      "text/plain": [
       "3"
      ]
     },
     "execution_count": 11,
     "metadata": {},
     "output_type": "execute_result"
    }
   ],
   "source": [
    "def bgcd(a,b):\n",
    "    if a>=b:\n",
    "        if b == 0:\n",
    "            return a\n",
    "        if a%2 == 0 and b%2 == 0:\n",
    "            return 2*bgcd(a//2,b//2)\n",
    "        if a%2 == 0 and b%2 == 1:\n",
    "            return bgcd(a//2,b)\n",
    "        if a%2 == 1 and b%2 == 0:\n",
    "            return bgcd(a,b//2)\n",
    "        if a%2 == 1 and b%2 == 1:\n",
    "            return bgcd(a-b,b)\n",
    "    else:\n",
    "        return bgcd(b,a)\n",
    "\n",
    "bgcd(254262621,24)"
   ]
  },
  {
   "cell_type": "markdown",
   "metadata": {},
   "source": [
    "4 extended binary GCD"
   ]
  },
  {
   "cell_type": "code",
   "execution_count": null,
   "metadata": {},
   "outputs": [],
   "source": []
  },
  {
   "cell_type": "markdown",
   "metadata": {},
   "source": [
    "5 "
   ]
  },
  {
   "cell_type": "markdown",
   "metadata": {},
   "source": [
    "tutorial 7\n"
   ]
  },
  {
   "cell_type": "markdown",
   "metadata": {},
   "source": [
    "1"
   ]
  },
  {
   "cell_type": "code",
   "execution_count": 12,
   "metadata": {},
   "outputs": [
    {
     "name": "stdout",
     "output_type": "stream",
     "text": [
      "A generator of Z_23^* is: 5\n"
     ]
    }
   ],
   "source": [
    "def is_generator(g, p):\n",
    "    seen = set()\n",
    "    for k in range(1, p): \n",
    "        seen.add(pow(g, k, p))\n",
    "    return len(seen) == p - 1  \n",
    "\n",
    "def find_generator_brute_force(p):\n",
    "    for g in range(2, p): \n",
    "        if is_generator(g, p):\n",
    "            return g\n",
    "    return None  \n",
    "\n",
    "p = 23 \n",
    "generator = find_generator_brute_force(p)\n",
    "print(f\"A generator of Z_{p}^* is: {generator}\")\n"
   ]
  },
  {
   "cell_type": "markdown",
   "metadata": {},
   "source": [
    "2"
   ]
  },
  {
   "cell_type": "code",
   "execution_count": 23,
   "metadata": {},
   "outputs": [
    {
     "name": "stdout",
     "output_type": "stream",
     "text": [
      "A generator of Z_211^* using factorization is: 2\n"
     ]
    }
   ],
   "source": [
    "from sympy import factorint\n",
    "\n",
    "def is_generator_optimized(g, p, factors):\n",
    "    for q in factors:\n",
    "        if pow(g, (p-1) // q, p) == 1:\n",
    "            return False\n",
    "    return True\n",
    "\n",
    "def find_generator_using_factors(p):\n",
    "    factors = factorint(p - 1).keys()  \n",
    "    for g in range(2, p):\n",
    "        if is_generator_optimized(g, p, factors):\n",
    "            return g\n",
    "    return None  \n",
    "\n",
    "# Example usage\n",
    "p = 211\n",
    "generator = find_generator_using_factors(p)\n",
    "print(f\"A generator of Z_{p}^* using factorization is: {generator}\")\n"
   ]
  },
  {
   "cell_type": "markdown",
   "metadata": {},
   "source": [
    "3"
   ]
  },
  {
   "cell_type": "code",
   "execution_count": 14,
   "metadata": {},
   "outputs": [
    {
     "name": "stdout",
     "output_type": "stream",
     "text": [
      "Discrete log of 8 base 5 mod 23 is: 6\n"
     ]
    }
   ],
   "source": [
    "def discrete_log_brute_force(g, h, p):\n",
    "    for x in range(p):\n",
    "        if pow(g, x, p) == h:\n",
    "            return x\n",
    "    return None  \n",
    "\n",
    "\n",
    "g = 5  \n",
    "h = 8 \n",
    "p = 23\n",
    "x = discrete_log_brute_force(g, h, p)\n",
    "print(f\"Discrete log of {h} base {g} mod {p} is: {x}\")\n"
   ]
  },
  {
   "cell_type": "markdown",
   "metadata": {},
   "source": [
    "4"
   ]
  },
  {
   "cell_type": "code",
   "execution_count": 15,
   "metadata": {},
   "outputs": [
    {
     "name": "stdout",
     "output_type": "stream",
     "text": [
      "Discrete log of 8 base 5 mod 23 (using Baby-step Giant-step) is: 6\n"
     ]
    }
   ],
   "source": [
    "from math import ceil, sqrt\n",
    "\n",
    "def baby_step_giant_step(g, h, p):\n",
    "    \"\"\"Solve g^x ≡ h (mod p) using the Baby-step Giant-step algorithm\"\"\"\n",
    "    m = ceil(sqrt(p))  # Step size\n",
    "    baby_steps = {pow(g, j, p): j for j in range(m)}  # Compute baby steps\n",
    "\n",
    "    # Compute giant steps\n",
    "    g_inv_m = pow(g, -m, p)  # Compute g^(-m) mod p\n",
    "    giant = h\n",
    "    for i in range(m):\n",
    "        if giant in baby_steps:\n",
    "            return i * m + baby_steps[giant]  # Solution found\n",
    "        giant = (giant * g_inv_m) % p  # Move to next giant step\n",
    "    \n",
    "    return None  # No solution found\n",
    "\n",
    "# Example usage\n",
    "g = 5  # Generator\n",
    "h = 8  # Target\n",
    "p = 23\n",
    "x = baby_step_giant_step(g, h, p)\n",
    "print(f\"Discrete log of {h} base {g} mod {p} (using Baby-step Giant-step) is: {x}\")\n"
   ]
  },
  {
   "cell_type": "markdown",
   "metadata": {},
   "source": [
    "5"
   ]
  },
  {
   "cell_type": "code",
   "execution_count": 16,
   "metadata": {},
   "outputs": [
    {
     "name": "stdout",
     "output_type": "stream",
     "text": [
      "Alice's secret: 10, Bob's secret: 5\n",
      "Alice sends: 9, Bob sends: 20\n",
      "Shared secret: 8 (Alice), 8 (Bob)\n"
     ]
    }
   ],
   "source": [
    "import random\n",
    "\n",
    "def diffie_hellman(p, g):\n",
    "    \"\"\"Simulate Diffie-Hellman key exchange\"\"\"\n",
    "    a = random.randint(1, p-1)  # Alice's secret key\n",
    "    b = random.randint(1, p-1)  # Bob's secret key\n",
    "\n",
    "    A = pow(g, a, p)  # Alice sends this\n",
    "    B = pow(g, b, p)  # Bob sends this\n",
    "\n",
    "    # Both compute the shared secret\n",
    "    S_Alice = pow(B, a, p)\n",
    "    S_Bob = pow(A, b, p)\n",
    "\n",
    "    return a, b, A, B, S_Alice, S_Bob\n",
    "\n",
    "# Example usage\n",
    "p = 23\n",
    "g = 5\n",
    "a, b, A, B, S_Alice, S_Bob = diffie_hellman(p, g)\n",
    "print(f\"Alice's secret: {a}, Bob's secret: {b}\")\n",
    "print(f\"Alice sends: {A}, Bob sends: {B}\")\n",
    "print(f\"Shared secret: {S_Alice} (Alice), {S_Bob} (Bob)\")\n"
   ]
  }
 ],
 "metadata": {
  "kernelspec": {
   "display_name": "SageMath 10.3",
   "language": "sage",
   "name": "sagemath"
  },
  "language_info": {
   "codemirror_mode": {
    "name": "ipython",
    "version": 3
   },
   "file_extension": ".py",
   "mimetype": "text/x-python",
   "name": "python",
   "nbconvert_exporter": "python",
   "pygments_lexer": "ipython3",
   "version": "3.11.9"
  }
 },
 "nbformat": 4,
 "nbformat_minor": 2
}
