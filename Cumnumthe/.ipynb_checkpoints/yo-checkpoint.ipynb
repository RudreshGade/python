{
 "cells": [
  {
   "cell_type": "code",
   "execution_count": 1,
   "metadata": {},
   "outputs": [
    {
     "name": "stdout",
     "output_type": "stream",
     "text": [
      "hllo world\n"
     ]
    }
   ],
   "source": [
    "print(\"hllo world\")"
   ]
  },
  {
   "cell_type": "code",
   "execution_count": 2,
   "metadata": {},
   "outputs": [
    {
     "name": "stdout",
     "output_type": "stream",
     "text": [
      "\u001b[0;31mSignature:\u001b[0m      \u001b[0mis_prime\u001b[0m\u001b[0;34m(\u001b[0m\u001b[0mn\u001b[0m\u001b[0;34m)\u001b[0m \u001b[0;34m->\u001b[0m \u001b[0mbool\u001b[0m\u001b[0;34m\u001b[0m\u001b[0;34m\u001b[0m\u001b[0m\n",
      "\u001b[0;31mDocstring:\u001b[0m     \n",
      "   Determine whether n is a prime element of its parent ring.\n",
      "\n",
      "   INPUT:\n",
      "\n",
      "   * \"n\" -- the object for which to determine primality\n",
      "\n",
      "   Exceptional special cases:\n",
      "\n",
      "   * For integers, determine whether n is a *positive* prime.\n",
      "\n",
      "   * For number fields except \\QQ, determine whether n is a prime\n",
      "     element *of the maximal order*.\n",
      "\n",
      "   ALGORITHM:\n",
      "\n",
      "   For integers, this function uses a provable primality test or a\n",
      "   strong pseudo-primality test depending on the global \"arithmetic\n",
      "   proof flag\".\n",
      "\n",
      "   See also:\n",
      "\n",
      "     * \"is_pseudoprime()\"\n",
      "\n",
      "     * \"sage.rings.integer.Integer.is_prime()\"\n",
      "\n",
      "   EXAMPLES:\n",
      "\n",
      "      sage: is_prime(389)\n",
      "      True\n",
      "      sage: is_prime(2000)\n",
      "      False\n",
      "      sage: is_prime(2)\n",
      "      True\n",
      "      sage: is_prime(-1)\n",
      "      False\n",
      "      sage: is_prime(1)\n",
      "      False\n",
      "      sage: is_prime(-2)\n",
      "      False\n",
      "\n",
      "      sage: a = 2**2048 + 981\n",
      "      sage: is_prime(a)    # not tested - takes ~ 1min\n",
      "      sage: proof.arithmetic(False)\n",
      "      sage: is_prime(a)    # instantaneous!\n",
      "      True\n",
      "      sage: proof.arithmetic(True)\n",
      "\u001b[0;31mInit docstring:\u001b[0m Initialize self.  See help(type(self)) for accurate signature.\n",
      "\u001b[0;31mFile:\u001b[0m           /nix/store/5xnraaj09kzhdhvp9154spj3ays8lmyw-python3-3.11.9-env/lib/python3.11/site-packages/sage/arith/misc.py\n",
      "\u001b[0;31mType:\u001b[0m           function"
     ]
    }
   ],
   "source": [
    "is_prime?\n"
   ]
  }
 ],
 "metadata": {
  "kernelspec": {
   "display_name": "SageMath 10.3",
   "language": "sage",
   "name": "sagemath"
  },
  "language_info": {
   "codemirror_mode": {
    "name": "ipython",
    "version": 3
   },
   "file_extension": ".py",
   "mimetype": "text/x-python",
   "name": "python",
   "nbconvert_exporter": "python",
   "pygments_lexer": "ipython3",
   "version": "3.11.9"
  }
 },
 "nbformat": 4,
 "nbformat_minor": 2
}
